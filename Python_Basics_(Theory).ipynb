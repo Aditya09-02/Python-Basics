{
  "nbformat": 4,
  "nbformat_minor": 0,
  "metadata": {
    "colab": {
      "provenance": []
    },
    "kernelspec": {
      "name": "python3",
      "display_name": "Python 3"
    },
    "language_info": {
      "name": "python"
    }
  },
  "cells": [
    {
      "cell_type": "code",
      "execution_count": null,
      "metadata": {
        "id": "sBjCTl--RQgZ"
      },
      "outputs": [],
      "source": []
    },
    {
      "cell_type": "markdown",
      "source": [
        "Q1. What is Python and why is it popular ?"
      ],
      "metadata": {
        "id": "xoBYoBJtSEUe"
      }
    },
    {
      "cell_type": "markdown",
      "source": [
        "Ans. Python Is a Programming Language which is used in variety of task, web development, Data Analysis and Machine Learing.\n",
        "\n",
        "Python Is Popular Beacuse:\n",
        "\n",
        "1. It Is Easy To Learn And Use\n",
        "\n",
        "2. It Has a Lot of Libraries\n",
        "\n",
        "3. It Has a Huge Community\n",
        "\n",
        "4. It Is Versatile"
      ],
      "metadata": {
        "id": "zyjfDIOqSMnN"
      }
    },
    {
      "cell_type": "markdown",
      "source": [],
      "metadata": {
        "id": "FO3s62b3THLU"
      }
    },
    {
      "cell_type": "markdown",
      "source": [],
      "metadata": {
        "id": "YdbflevTSqXt"
      }
    },
    {
      "cell_type": "markdown",
      "source": [
        "Q2. What is an interpreter in Python ?"
      ],
      "metadata": {
        "id": "4jktlqejxXgh"
      }
    },
    {
      "cell_type": "markdown",
      "source": [
        "Ans. A Python interpreter executes code line by line without prior compilation. It translates Python code into machine instructions and runs it immediately.\n",
        "\n",
        " It enables easy debugging, cross-platform use, and interactive coding."
      ],
      "metadata": {
        "id": "OvXXfjo7xvgX"
      }
    },
    {
      "cell_type": "markdown",
      "source": [],
      "metadata": {
        "id": "ZGTN_8D_y01o"
      }
    },
    {
      "cell_type": "markdown",
      "source": [
        "Q3. What are pre-defined keywords in Python ?"
      ],
      "metadata": {
        "id": "xQ8-oIWOy4H8"
      }
    },
    {
      "cell_type": "markdown",
      "source": [
        "Ans. Python keywords are reserved words with special meanings, used for syntax and cannot be used as variable names.\n",
        "\n",
        "Examples of Python Keywords:\n",
        "\n",
        "1. Control Flow: if, else, elif, while, for, break, continue\n",
        "\n",
        "2. Function & Class: def, return, class, lambda\n",
        "\n",
        "3. Data Handling: True, False, None, and, or, not, in, is\n",
        "\n",
        "4. Exception Handling: try, except, finally, raise, assert\n",
        "\n",
        "5. Import & Modules: import, from, as, global, nonlocal\n",
        "\n",
        "Python has around 35+ keywords that define its syntax and structure.\n",
        "\n",
        "\n"
      ],
      "metadata": {
        "id": "bBugeLNszTCf"
      }
    },
    {
      "cell_type": "markdown",
      "source": [
        "Q4. Can keywords be used as variable names ?"
      ],
      "metadata": {
        "id": "tu7h1nn32230"
      }
    },
    {
      "cell_type": "markdown",
      "source": [
        "Ans. No, Python keywords cannot be used as variable names because they are reserved words that define the language’s syntax and behavior.\n",
        "\n",
        "Example (Invalid Usage):\n",
        "\n",
        "if = 10  # ❌ SyntaxError: invalid syntax\n",
        "def = \"hello\"  # ❌ SyntaxError\n",
        "\n",
        "Workaround:\n",
        "If you need a similar variable name, modify it slightly:\n",
        "\n",
        "if_value = 10  # ✅ Valid\n",
        "def_name = \"hello\"  # ✅ Valid\n",
        "\n",
        "Since keywords have predefined meanings, using them as variable names causes errors in Python!"
      ],
      "metadata": {
        "id": "0tmnXmBD27YS"
      }
    },
    {
      "cell_type": "markdown",
      "source": [
        "Q5. What is mutability in Python ?"
      ],
      "metadata": {
        "id": "zL74c47F4SwD"
      }
    },
    {
      "cell_type": "markdown",
      "source": [
        "Ans. Mutability in Python\n",
        "\n",
        "Mutability refers to whether an object’s value can be changed after creation.\n",
        "\n",
        "Types of Objects in Python:\n",
        "\n",
        "1.  Mutable (Changeable) – Can be modified after creation.\n",
        "\n",
        "Examples: list, dict, set\n",
        "\n",
        "Example:\n",
        "\n",
        "my_list = [1, 2, 3]\n",
        "my_list.append(4)  # ✅ List modified\n",
        "print(my_list)  # Output: [1, 2, 3, 4]\n",
        "\n",
        "2. Immutable (Unchangeable) – Cannot be modified after creation.\n",
        "\n",
        "Examples: int, float, str, tuple\n",
        "\n",
        "Example:\n",
        "\n",
        "my_str = \"Hello\"\n",
        "my_str[0] = \"M\"  # ❌ TypeError: 'str' object does not support item assignment\n"
      ],
      "metadata": {
        "id": "PPN-2-Cc6DK2"
      }
    },
    {
      "cell_type": "markdown",
      "source": [
        "Q6. Why are lists mutable, but tuples are immutable ?"
      ],
      "metadata": {
        "id": "Yzk84uI-7vsn"
      }
    },
    {
      "cell_type": "markdown",
      "source": [
        "Ans.\n",
        "1. Lists\n",
        "\n",
        "list are mutable because they store references to elements, allowing modifications like adding, removing, or changing items.\n",
        "\n",
        "Example:\n",
        "\n",
        "my_list = [1, 2, 3]  \n",
        "my_list.append(4)  # ✅ List modified\n",
        "print(my_list)  # Output: [1, 2, 3, 4]\n",
        "\n",
        "2. Tuples\n",
        "\n",
        "tuple are immutable because they store fixed data, preventing accidental changes and ensuring faster performance and safety.\n",
        "\n",
        "Example:\n",
        "\n",
        "my_tuple = (1, 2, 3)  \n",
        "my_tuple[0] = 10  # ❌ TypeError (Immutable)\n",
        "\n",
        "Key Reason:\n",
        "\n",
        "Tuples use fixed memory, while lists use dynamic memory, allowing modifications.\n",
        "\n",
        "\n"
      ],
      "metadata": {
        "id": "XOs0koZG74SU"
      }
    },
    {
      "cell_type": "markdown",
      "source": [
        "Q7. What is the difference between “==” and “is” operators in Python ?\n"
      ],
      "metadata": {
        "id": "R1hy5rBf8xz_"
      }
    },
    {
      "cell_type": "markdown",
      "source": [
        "Ans.\n",
        "Difference Between \"==\" and \"Is\" in Python\n",
        "\n",
        "1. \"==\" (Equality Operator) - Compares values of two objects.\n",
        "\n",
        "Example:\n",
        "\n",
        "a = [1, 2, 3]  \n",
        "b = [1, 2, 3]  \n",
        "print(a == b)  # ✅ True (Values are equal)\n",
        "\n",
        "2. \"Is\" (Identity Operator) - Compares memory locations (whether both refer to the same object).\n",
        "\n",
        "Example:\n",
        "\n",
        "print(a is b)  # ❌ False (Different memory locations)\n",
        "\n",
        "Key Difference:\n",
        "\n",
        "\"==\" - Checks if values are the same.\n",
        "\"Is\" - Checks if objects are the same (same memory location)"
      ],
      "metadata": {
        "id": "Y0MOcpLT81j8"
      }
    },
    {
      "cell_type": "markdown",
      "source": [
        "Q8. What are logical operators in Python ?"
      ],
      "metadata": {
        "id": "_0JuwCu2-89s"
      }
    },
    {
      "cell_type": "markdown",
      "source": [
        "Ans.\n",
        "\n",
        "1. Logical operators help in decision-making in Python.\n",
        "\n",
        "2. Logical operators are used to combine conditional statements.\n",
        "\n",
        "2(1.) \"and\" - Returns True if both conditions are True.\n",
        "\n",
        "print(5 > 3 and 10 > 5)  # ✅ True\n",
        "\n",
        "2(2.) \"or\" - Returns True if at least one condition is True.\n",
        "\n",
        "print(5 > 3 or 10 < 5)  # ✅ True\n",
        "\n",
        "2(3.) \"Not\" - Reverses the boolean value.\n",
        "\n",
        "print(not (5 > 3))  # ❌ False\n",
        "\n"
      ],
      "metadata": {
        "id": "iSkjh4c8-_xT"
      }
    },
    {
      "cell_type": "markdown",
      "source": [
        "Q9 . What is type casting in Python ?"
      ],
      "metadata": {
        "id": "4j0pm59QACvd"
      }
    },
    {
      "cell_type": "markdown",
      "source": [
        "Ans. Type casting is converting one data type into another.\n",
        "\n",
        "1. Implicit Casting (Automatic by Python)\n",
        "\n",
        "x = 5    # int  \n",
        "y = 2.5  # float  \n",
        "z = x + y  \n",
        "print(type(z))  # ✅ float (int converted to float)\n",
        "\n",
        "2. Explicit Casting (Manual by Programmer)\n",
        "\n",
        "a = \"10\"  \n",
        "b = int(a)  # ✅ Convert str to int  \n",
        "print(type(b))  # Output: <class 'int'>\n",
        "\n",
        "\n",
        "Common Casting Functions:\n",
        "\n",
        "int(), float(), str(), list(), tuple(), set()"
      ],
      "metadata": {
        "id": "r0iSWgYMAINi"
      }
    },
    {
      "cell_type": "markdown",
      "source": [
        "Q10. What is the difference between implicit and explicit type casting ?"
      ],
      "metadata": {
        "id": "JkEmr1DZA3xM"
      }
    },
    {
      "cell_type": "markdown",
      "source": [
        "Ans. Difference Between Implicit and Explicit Type Casting in Python:\n",
        "\n",
        "Implicit vs. Explicit Type Casting\n",
        "\n",
        "1. Implicit Type Casting\n",
        "\n",
        "(A) Who Converts?\n",
        "\n",
        "Python (Automatic)\n",
        "\n",
        "(B) Data Loss Risk?\n",
        "\n",
        "No\n",
        "\n",
        "(C) Implicit\n",
        "\n",
        "Safe & Automatic\n",
        "\n",
        "\n",
        "Example - int → float (safe)\n",
        "\n",
        "x = 5 + 2.5  # Auto converts to float  \n",
        "print(type(x))  # ✅ <class 'float'>\n",
        "\n",
        "\n",
        "2. Explicit Type Casting\n",
        "\n",
        "(A) Who Converts?\n",
        "\n",
        "Programmer (Manual)\n",
        "\n",
        "(B) Data Loss Risk?\n",
        "\n",
        "Possible\n",
        "\n",
        "(C) Explicit\n",
        "\n",
        "Manual & May Lose Data\n",
        "\n",
        "\n",
        "Example - str → int, float → int (manual)\n",
        "\n",
        "y = int(\"10\")  # Manual conversion  \n",
        "print(type(y))  # ✅ <class 'int'>"
      ],
      "metadata": {
        "id": "HKZOnRKBBJRA"
      }
    },
    {
      "cell_type": "markdown",
      "source": [
        "Q11. What is the purpose of conditional statements in Python ?"
      ],
      "metadata": {
        "id": "m01c6EqXCrU2"
      }
    },
    {
      "cell_type": "markdown",
      "source": [
        "Ans. Purpose of Conditional Statements in Python:\n",
        "\n",
        "Conditional statements control the flow of execution by making decisions based on conditions.\n",
        "\n",
        "Key Statements:\n",
        "\n",
        "1. \"if\" -  Executes a block if the condition is True.\n",
        "\n",
        "2. \"elif\" - Checks multiple conditions.\n",
        "\n",
        "3. \"else\" - Executes if all conditions are False.\n",
        "\n",
        "Example:\n",
        "\n",
        "age = 18\n",
        "if age >= 18:\n",
        "    print(\"You can vote\")  # ✅ Runs if condition is True\n",
        "else:\n",
        "    print(\"You cannot vote\")"
      ],
      "metadata": {
        "id": "7uX9rpxfCvcX"
      }
    },
    {
      "cell_type": "markdown",
      "source": [
        "Q12. How does the elif statement work ?"
      ],
      "metadata": {
        "id": "t8-ioyoUDfQ_"
      }
    },
    {
      "cell_type": "markdown",
      "source": [
        "Ans. The elif statement checks multiple conditions sequentially after an if. If the first condition is False, Python evaluates the elif condition.\n",
        "\n",
        "1. Checks conditions one by one.\n",
        "\n",
        "2. Executes the first True block, then skips the rest.\n",
        "\n",
        "3. Prevents multiple if checks, making code efficient.\n",
        "\n",
        "Example:\n",
        "\n",
        "\n",
        "marks = 75\n",
        "\n",
        "if marks >= 90:\n",
        "    print(\"Grade: A\")\n",
        "elif marks >= 75:\n",
        "    print(\"Grade: B\")  # ✅ Runs if marks >= 75\n",
        "elif marks >= 50:\n",
        "    print(\"Grade: C\")\n",
        "else:\n",
        "    print(\"Fail\")"
      ],
      "metadata": {
        "id": "pAhFA21KDrW1"
      }
    },
    {
      "cell_type": "markdown",
      "source": [
        "Q13. What is the difference between for and while loops ?\n"
      ],
      "metadata": {
        "id": "R0UCK4mBEAa2"
      }
    },
    {
      "cell_type": "markdown",
      "source": [
        "Ans. \"For\" Vs \"While\" Loops in Python:\n",
        "\n",
        "1. \"For\" Loop: (Fixed Iterations)\n",
        "\n",
        "(A) Best for definite iteration.\n",
        "\n",
        "(B) Uses For Iterates over a sequence (list, range, etc.).\n",
        "\n",
        "(C) Syntax - Uses an iterator.\n",
        "\n",
        "Example:\n",
        "\n",
        "for i in range(5):  \n",
        "    print(i)  # Outputs: 0 1 2 3 4\n",
        "\n",
        "\n",
        "\n",
        "2. \"While\" Loop: (Runs Until Condition is False)\n",
        "\n",
        "(A) Best for indefinite iteration.\n",
        "\n",
        "(B) Uses For Runs until a condition is False.\n",
        "\n",
        "(C) Syntax - Uses a condition.\n",
        "\n",
        "Example:\n",
        "\n",
        "x = 0  \n",
        "while x < 5:  \n",
        "    print(x)  \n",
        "    x += 1  # Outputs: 0 1 2 3 4\n"
      ],
      "metadata": {
        "id": "Gv67WeS1EIc-"
      }
    },
    {
      "cell_type": "markdown",
      "source": [
        "Q14. Describe a scenario where a while loop is more suitable than a for loop ?"
      ],
      "metadata": {
        "id": "MLPxiCgSFzbc"
      }
    },
    {
      "cell_type": "markdown",
      "source": [
        "Ans . A while loop is more suitable when the number of iterations is unknown and depends on a condition.\n",
        "\n",
        "Why Use while?\n",
        "\n",
        "1. The loop runs until a valid password is entered.\n",
        "\n",
        "2. No fixed number of iterations (unknown attempts).\n",
        "\n",
        "3. Use while when a loop depends on a condition rather than a fixed range!\n",
        "\n",
        "Scenario:\n",
        "\n",
        "User Login Attempt\n",
        "\n",
        "password = \"\"\n",
        "while password != \"secret\":\n",
        "    password = input(\"Enter password: \")  # Keeps running until correct input\n",
        "print(\"Access Granted!\")"
      ],
      "metadata": {
        "id": "B7MhnZ35GG5T"
      }
    }
  ]
}