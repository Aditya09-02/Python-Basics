{
  "nbformat": 4,
  "nbformat_minor": 0,
  "metadata": {
    "colab": {
      "provenance": []
    },
    "kernelspec": {
      "name": "python3",
      "display_name": "Python 3"
    },
    "language_info": {
      "name": "python"
    }
  },
  "cells": [
    {
      "cell_type": "markdown",
      "source": [
        "Q1.  Write a Python program to print \"Hello, World!\" ?"
      ],
      "metadata": {
        "id": "a2DCABYEceg-"
      }
    },
    {
      "cell_type": "code",
      "source": [
        "# Ans.\n",
        "\n",
        "print(\"Hello, World!\")"
      ],
      "metadata": {
        "colab": {
          "base_uri": "https://localhost:8080/"
        },
        "id": "KNOSehc8cl7V",
        "outputId": "4364fc88-9e9d-4236-9572-17b34c400ac7"
      },
      "execution_count": 1,
      "outputs": [
        {
          "output_type": "stream",
          "name": "stdout",
          "text": [
            "Hello, World!\n"
          ]
        }
      ]
    },
    {
      "cell_type": "markdown",
      "source": [
        "Q2. Write a Python program that displays your name and age ?"
      ],
      "metadata": {
        "id": "VNXUHHZwdE3c"
      }
    },
    {
      "cell_type": "code",
      "source": [
        " #Ans.\n",
        "\n",
        " name = \"Aditya Seth\"\n",
        " age = 25\n",
        " print(f\"My name is {name} and I am {age} years old.\")"
      ],
      "metadata": {
        "colab": {
          "base_uri": "https://localhost:8080/"
        },
        "id": "5VH5IRaId9-d",
        "outputId": "ea9c73a9-f698-4852-fe9c-bec9b5901a25"
      },
      "execution_count": 2,
      "outputs": [
        {
          "output_type": "stream",
          "name": "stdout",
          "text": [
            "My name is Aditya Seth and I am 25 years old.\n"
          ]
        }
      ]
    },
    {
      "cell_type": "markdown",
      "source": [
        "Q3. Write code to print all the pre-defined keywords in Python using the keyword library ?"
      ],
      "metadata": {
        "id": "6qiNkf_LeYcT"
      }
    },
    {
      "cell_type": "code",
      "source": [
        "#Ans.\n",
        "\n",
        "help ('keywords')"
      ],
      "metadata": {
        "colab": {
          "base_uri": "https://localhost:8080/"
        },
        "id": "-K5XzrmXeqD5",
        "outputId": "caaa4b35-bfb4-443b-dbdc-b1e07aed86d4"
      },
      "execution_count": 3,
      "outputs": [
        {
          "output_type": "stream",
          "name": "stdout",
          "text": [
            "\n",
            "Here is a list of the Python keywords.  Enter any keyword to get more help.\n",
            "\n",
            "False               class               from                or\n",
            "None                continue            global              pass\n",
            "True                def                 if                  raise\n",
            "and                 del                 import              return\n",
            "as                  elif                in                  try\n",
            "assert              else                is                  while\n",
            "async               except              lambda              with\n",
            "await               finally             nonlocal            yield\n",
            "break               for                 not                 \n",
            "\n"
          ]
        }
      ]
    },
    {
      "cell_type": "markdown",
      "source": [
        "Q4. Write a program that checks if a given word is a Python keyword ?"
      ],
      "metadata": {
        "id": "w8Lyrkice4KR"
      }
    },
    {
      "cell_type": "code",
      "source": [
        "#Ans.\n",
        "\n",
        "# prompt: Write a program that checks if a given word is a Python keyword ?\n",
        "\n",
        "import keyword\n",
        "\n",
        "def check_keyword(word):\n",
        "    if keyword.iskeyword(word):\n",
        "        print(f\"'{word}' is a Python keyword.\")\n",
        "    else:\n",
        "        print(f\"'{word}' is NOT a Python keyword.\")\n",
        "\n",
        "# Get user input\n",
        "word = input(\"Enter a word: \")\n",
        "check_keyword(word)\n"
      ],
      "metadata": {
        "colab": {
          "base_uri": "https://localhost:8080/"
        },
        "id": "T3E5ayx0gbhU",
        "outputId": "8caafe11-01d2-41c5-9c32-a0c0d55295f4"
      },
      "execution_count": 7,
      "outputs": [
        {
          "output_type": "stream",
          "name": "stdout",
          "text": [
            "Enter a word: Hello\n",
            "'Hello' is NOT a Python keyword.\n"
          ]
        }
      ]
    },
    {
      "cell_type": "code",
      "source": [],
      "metadata": {
        "id": "Bo4xb6_ohpuD"
      },
      "execution_count": 7,
      "outputs": []
    },
    {
      "cell_type": "markdown",
      "source": [
        "Q5. Create a list and tuple in Python, and demonstrate how attempting to change an element works differently for each ?"
      ],
      "metadata": {
        "id": "rtrSMCTCh4hm"
      }
    },
    {
      "cell_type": "code",
      "source": [
        "#Ans.\n",
        "\n",
        "# Create a list (Mutable)\n",
        "my_list = [1, 2, 3]\n",
        "my_list[0] = 10  # ✅ Allowed (Modifiable)\n",
        "print(\"Updated List:\", my_list)\n",
        "\n",
        "# Create a tuple (Immutable)\n",
        "my_tuple = (1, 2, 3)\n",
        "my_tuple[0] = 10"
      ],
      "metadata": {
        "colab": {
          "base_uri": "https://localhost:8080/",
          "height": 193
        },
        "id": "cEd6e37aioBV",
        "outputId": "df0eb43a-da31-4cad-cfa4-1c0b7ecd599a"
      },
      "execution_count": 8,
      "outputs": [
        {
          "output_type": "stream",
          "name": "stdout",
          "text": [
            "Updated List: [10, 2, 3]\n"
          ]
        },
        {
          "output_type": "error",
          "ename": "TypeError",
          "evalue": "'tuple' object does not support item assignment",
          "traceback": [
            "\u001b[0;31m---------------------------------------------------------------------------\u001b[0m",
            "\u001b[0;31mTypeError\u001b[0m                                 Traceback (most recent call last)",
            "\u001b[0;32m<ipython-input-8-11fc9fe70448>\u001b[0m in \u001b[0;36m<cell line: 0>\u001b[0;34m()\u001b[0m\n\u001b[1;32m      6\u001b[0m \u001b[0;31m# Create a tuple (Immutable)\u001b[0m\u001b[0;34m\u001b[0m\u001b[0;34m\u001b[0m\u001b[0m\n\u001b[1;32m      7\u001b[0m \u001b[0mmy_tuple\u001b[0m \u001b[0;34m=\u001b[0m \u001b[0;34m(\u001b[0m\u001b[0;36m1\u001b[0m\u001b[0;34m,\u001b[0m \u001b[0;36m2\u001b[0m\u001b[0;34m,\u001b[0m \u001b[0;36m3\u001b[0m\u001b[0;34m)\u001b[0m\u001b[0;34m\u001b[0m\u001b[0;34m\u001b[0m\u001b[0m\n\u001b[0;32m----> 8\u001b[0;31m \u001b[0mmy_tuple\u001b[0m\u001b[0;34m[\u001b[0m\u001b[0;36m0\u001b[0m\u001b[0;34m]\u001b[0m \u001b[0;34m=\u001b[0m \u001b[0;36m10\u001b[0m\u001b[0;34m\u001b[0m\u001b[0;34m\u001b[0m\u001b[0m\n\u001b[0m",
            "\u001b[0;31mTypeError\u001b[0m: 'tuple' object does not support item assignment"
          ]
        }
      ]
    },
    {
      "cell_type": "code",
      "source": [],
      "metadata": {
        "id": "8Ghmps_hio6q"
      },
      "execution_count": null,
      "outputs": []
    },
    {
      "cell_type": "markdown",
      "source": [
        "Q6. Write a function to demonstrate the behavior of mutable and immutable arguments ?"
      ],
      "metadata": {
        "id": "xkKsxPlnitUt"
      }
    },
    {
      "cell_type": "code",
      "source": [
        "#Ans.\n",
        "\n",
        "def modify_data(mutable_list, immutable_num):\n",
        "    # Modify the mutable list\n",
        "    mutable_list.append(4)  # ✅ List is modified\n",
        "\n",
        "    # Try modifying the immutable integer\n",
        "    immutable_num += 10  # ❌ Creates a new integer, original remains unchanged\n",
        "\n",
        "    print(\"Inside function - List:\", mutable_list)\n",
        "    print(\"Inside function - Number:\", immutable_num)\n",
        "\n",
        "# Define mutable (list) and immutable (int) arguments\n",
        "my_list = [1, 2, 3]\n",
        "my_num = 5\n",
        "\n",
        "# Call the function\n",
        "modify_data(my_list, my_num)\n",
        "\n",
        "# Check values after function call\n",
        "print(\"Outside function - List:\", my_list)  # ✅ List is modified\n",
        "print(\"Outside function - Number:\", my_num)"
      ],
      "metadata": {
        "colab": {
          "base_uri": "https://localhost:8080/"
        },
        "id": "KXD-wEaHjf-9",
        "outputId": "649a5b21-2462-4729-9f16-c7116a7a886d"
      },
      "execution_count": 9,
      "outputs": [
        {
          "output_type": "stream",
          "name": "stdout",
          "text": [
            "Inside function - List: [1, 2, 3, 4]\n",
            "Inside function - Number: 15\n",
            "Outside function - List: [1, 2, 3, 4]\n",
            "Outside function - Number: 5\n"
          ]
        }
      ]
    },
    {
      "cell_type": "markdown",
      "source": [
        "Q7. Write a function to demonstrate the behavior of mutable and immutable arguments ?"
      ],
      "metadata": {
        "id": "Qme4e4fkjyD0"
      }
    },
    {
      "cell_type": "code",
      "source": [
        "#Ans.\n",
        "\n",
        "def modify_data(mutable_list, immutable_num):\n",
        "    # Modify the mutable list\n",
        "    mutable_list.append(4)  # ✅ List is modified\n",
        "\n",
        "    # Try modifying the immutable integer\n",
        "    immutable_num += 10  # ❌ Creates a new integer, original remains unchanged\n",
        "\n",
        "    print(\"Inside function - List:\", mutable_list)\n",
        "    print(\"Inside function - Number:\", immutable_num)\n",
        "\n",
        "# Define mutable (list) and immutable (int) arguments\n",
        "my_list = [1, 2, 3]\n",
        "my_num = 5\n",
        "\n",
        "# Call the function\n",
        "modify_data(my_list, my_num)\n",
        "\n",
        "# Check values after function call\n",
        "print(\"Outside function - List:\", my_list)  # ✅ List is modified\n",
        "print(\"Outside function - Number:\", my_num)"
      ],
      "metadata": {
        "colab": {
          "base_uri": "https://localhost:8080/"
        },
        "id": "FwJzg9LFj01M",
        "outputId": "ab88ee6f-9a70-4ee1-9a7c-6ad85ca079a0"
      },
      "execution_count": 10,
      "outputs": [
        {
          "output_type": "stream",
          "name": "stdout",
          "text": [
            "Inside function - List: [1, 2, 3, 4]\n",
            "Inside function - Number: 15\n",
            "Outside function - List: [1, 2, 3, 4]\n",
            "Outside function - Number: 5\n"
          ]
        }
      ]
    },
    {
      "cell_type": "markdown",
      "source": [
        "Q8. Write a program to demonstrate the use of logical operators ?"
      ],
      "metadata": {
        "id": "b_GY1QetkRpr"
      }
    },
    {
      "cell_type": "code",
      "source": [
        "#Ans.\n",
        "\n",
        "# Define variables\n",
        "x = 10\n",
        "y = 5\n",
        "z = 15\n",
        "\n",
        "# Using 'and' operator (Both conditions must be True)\n",
        "print(\"AND Operator:\", (x > y and z > x))  # ✅ True (Both conditions are True)\n",
        "\n",
        "# Using 'or' operator (At least one condition must be True)\n",
        "print(\"OR Operator:\", (x < y or z > x))  # ✅ True (One condition is True)\n",
        "\n",
        "# Using 'not' operator (Reverses the condition)\n",
        "print(\"NOT Operator:\", not (x > y))  # ❌ False (Reverses True to False)\n",
        "\n"
      ],
      "metadata": {
        "colab": {
          "base_uri": "https://localhost:8080/"
        },
        "id": "cV87d9wlj9eQ",
        "outputId": "a1c362b3-a4f4-4fe0-8d6b-203ebbf0427b"
      },
      "execution_count": 12,
      "outputs": [
        {
          "output_type": "stream",
          "name": "stdout",
          "text": [
            "AND Operator: True\n",
            "OR Operator: True\n",
            "NOT Operator: False\n"
          ]
        }
      ]
    },
    {
      "cell_type": "markdown",
      "source": [
        "Q9 . Write a Python program to convert user input from string to integer, float, and boolean types ?"
      ],
      "metadata": {
        "id": "fakJOEc2k2qj"
      }
    },
    {
      "cell_type": "code",
      "source": [
        "#Ans.\n",
        "\n",
        "# Get user input as a string\n",
        "user_input = input(\"Enter a value: \")\n",
        "\n",
        "# Convert to integer\n",
        "try:\n",
        "    int_value = int(user_input)\n",
        "    print(\"Integer:\", int_value)\n",
        "except ValueError:\n",
        "    print(\"Cannot convert to Integer.\")\n",
        "\n",
        "# Convert to float\n",
        "try:\n",
        "    float_value = float(user_input)\n",
        "    print(\"Float:\", float_value)\n",
        "except ValueError:\n",
        "    print(\"Cannot convert to Float.\")\n",
        "\n",
        "# Convert to boolean\n",
        "bool_value = bool(user_input)  # Empty string → False, Non-empty → True\n",
        "print(\"Boolean:\", bool_value)"
      ],
      "metadata": {
        "colab": {
          "base_uri": "https://localhost:8080/"
        },
        "id": "NLLx83WblJiU",
        "outputId": "b182a4e0-81c3-452f-89fc-bdef92056fa5"
      },
      "execution_count": 13,
      "outputs": [
        {
          "output_type": "stream",
          "name": "stdout",
          "text": [
            "Enter a value: 10\n",
            "Integer: 10\n",
            "Float: 10.0\n",
            "Boolean: True\n"
          ]
        }
      ]
    },
    {
      "cell_type": "code",
      "source": [],
      "metadata": {
        "id": "uzADyEh9lLtx"
      },
      "execution_count": 13,
      "outputs": []
    },
    {
      "cell_type": "markdown",
      "source": [
        "Q10. Write code to demonstrate type casting with list elements ?"
      ],
      "metadata": {
        "id": "00f8pKmelRhc"
      }
    },
    {
      "cell_type": "code",
      "source": [
        "#Ans.\n",
        "\n",
        "# Original list with mixed data types (strings)\n",
        "str_list = [\"10\", \"20\", \"30\", \"40.5\", \"50.7\"]\n",
        "\n",
        "# Convert list elements to integers (where possible)\n",
        "int_list = [int(float(i)) for i in str_list]  # Convert to float first (for decimals), then int\n",
        "print(\"Integer List:\", int_list)  # Output: [10, 20, 30, 40, 50]\n",
        "\n",
        "# Convert list elements to floats\n",
        "float_list = [float(i) for i in str_list]\n",
        "print(\"Float List:\", float_list)  # Output: [10.0, 20.0, 30.0, 40.5, 50.7]\n",
        "\n",
        "# Convert list elements to boolean values\n",
        "bool_list = [bool(i) for i in str_list]\n",
        "print(\"Boolean List:\", bool_list)  # Output: [True, True, True, True, True]"
      ],
      "metadata": {
        "colab": {
          "base_uri": "https://localhost:8080/"
        },
        "id": "b1XpJE-8ljqj",
        "outputId": "4d974d92-42f7-4691-faf1-ead679958b5d"
      },
      "execution_count": 14,
      "outputs": [
        {
          "output_type": "stream",
          "name": "stdout",
          "text": [
            "Integer List: [10, 20, 30, 40, 50]\n",
            "Float List: [10.0, 20.0, 30.0, 40.5, 50.7]\n",
            "Boolean List: [True, True, True, True, True]\n"
          ]
        }
      ]
    },
    {
      "cell_type": "code",
      "source": [],
      "metadata": {
        "id": "G3U9l_oQllus"
      },
      "execution_count": null,
      "outputs": []
    },
    {
      "cell_type": "markdown",
      "source": [
        "Q11. Write a program that checks if a number is positive, negative, or zero ?"
      ],
      "metadata": {
        "id": "JK0aOILKln3K"
      }
    },
    {
      "cell_type": "code",
      "source": [
        "#Ans.\n",
        "\n",
        "# Get user input\n",
        "num = float(input(\"Enter a number: \"))\n",
        "\n",
        "# Check conditions\n",
        "if num > 0:\n",
        "    print(\"The number is Positive.\")\n",
        "elif num < 0:\n",
        "    print(\"The number is Negative.\")\n",
        "else:\n",
        "    print(\"The number is Zero.\")"
      ],
      "metadata": {
        "colab": {
          "base_uri": "https://localhost:8080/"
        },
        "id": "lN-mQWFWlzjC",
        "outputId": "30a1990f-8386-4159-aaf7-1e8cb0dd98d5"
      },
      "execution_count": 15,
      "outputs": [
        {
          "output_type": "stream",
          "name": "stdout",
          "text": [
            "Enter a number: 10\n",
            "The number is Positive.\n"
          ]
        }
      ]
    },
    {
      "cell_type": "code",
      "source": [],
      "metadata": {
        "id": "s6d6yrbfl1t_"
      },
      "execution_count": 15,
      "outputs": []
    },
    {
      "cell_type": "markdown",
      "source": [
        "Q12. Write a for loop to print numbers from 1 to 10 ?"
      ],
      "metadata": {
        "id": "lO3xvKH1l6VE"
      }
    },
    {
      "cell_type": "code",
      "source": [
        "# Ans.\n",
        "\n",
        "for i in range(1, 11):\n",
        "    print(i)"
      ],
      "metadata": {
        "colab": {
          "base_uri": "https://localhost:8080/"
        },
        "id": "ZsfgD-w_mFqK",
        "outputId": "46332186-219b-4a39-e225-51daf54930c3"
      },
      "execution_count": 16,
      "outputs": [
        {
          "output_type": "stream",
          "name": "stdout",
          "text": [
            "1\n",
            "2\n",
            "3\n",
            "4\n",
            "5\n",
            "6\n",
            "7\n",
            "8\n",
            "9\n",
            "10\n"
          ]
        }
      ]
    },
    {
      "cell_type": "code",
      "source": [],
      "metadata": {
        "id": "ADLNLjiRmH4L"
      },
      "execution_count": null,
      "outputs": []
    },
    {
      "cell_type": "markdown",
      "source": [
        "Q13. Write a Python program to find the sum of all even numbers between 1 and 500 ?"
      ],
      "metadata": {
        "id": "ra25pDi6mI-R"
      }
    },
    {
      "cell_type": "code",
      "source": [
        "#Ans.\n",
        "\n",
        "# Initialize sum variable\n",
        "sum_even = 0\n",
        "\n",
        "# Loop through even numbers from 2 to 500\n",
        "for num in range(2, 501, 2):  # Step size of 2 to get only even numbers\n",
        "    sum_even += num  # Add to sum\n",
        "\n",
        "# Print the result\n",
        "print(\"Sum of even numbers from 1 to 500:\", sum_even)"
      ],
      "metadata": {
        "colab": {
          "base_uri": "https://localhost:8080/"
        },
        "id": "UwqvHerzmUJK",
        "outputId": "6d04dc20-5c6d-41c3-a098-dd18d846e370"
      },
      "execution_count": 17,
      "outputs": [
        {
          "output_type": "stream",
          "name": "stdout",
          "text": [
            "Sum of even numbers from 1 to 500: 62750\n"
          ]
        }
      ]
    },
    {
      "cell_type": "code",
      "source": [],
      "metadata": {
        "id": "_Y3y3XE6mWGv"
      },
      "execution_count": null,
      "outputs": []
    },
    {
      "cell_type": "markdown",
      "source": [
        "Q14. Write a program to reverse a string using a while loop ?"
      ],
      "metadata": {
        "id": "EYkjAWnZmXgS"
      }
    },
    {
      "cell_type": "code",
      "source": [
        "#Ans.\n",
        "\n",
        "# Get user input\n",
        "text = input(\"Enter a string: \")\n",
        "\n",
        "# Initialize variables\n",
        "reversed_text = \"\"\n",
        "index = len(text) - 1  # Start from the last character\n",
        "\n",
        "# Reverse using while loop\n",
        "while index >= 0:\n",
        "    reversed_text += text[index]  # Append character in reverse order\n",
        "    index -= 1  # Move to the previous character\n",
        "\n",
        "# Print the reversed string\n",
        "print(\"Reversed String:\", reversed_text)"
      ],
      "metadata": {
        "colab": {
          "base_uri": "https://localhost:8080/"
        },
        "id": "deaPmamrmdnA",
        "outputId": "a910d872-a925-4f10-9237-b5aa71924213"
      },
      "execution_count": 18,
      "outputs": [
        {
          "output_type": "stream",
          "name": "stdout",
          "text": [
            "Enter a string: Hello\n",
            "Reversed String: olleH\n"
          ]
        }
      ]
    },
    {
      "cell_type": "code",
      "source": [],
      "metadata": {
        "id": "4HFfbzMammY4"
      },
      "execution_count": 18,
      "outputs": []
    },
    {
      "cell_type": "markdown",
      "source": [
        "Q15. Write a Python program to calculate the factorial of a number provided by the user using a while loop ?"
      ],
      "metadata": {
        "id": "d9CkfxNvmuzz"
      }
    },
    {
      "cell_type": "code",
      "source": [
        "#Ans.\n",
        "\n",
        "# Get user input\n",
        "num = int(input(\"Enter a number: \"))\n",
        "\n",
        "# Initialize variables\n",
        "factorial = 1\n",
        "i = num\n",
        "\n",
        "# Calculate factorial using while loop\n",
        "while i > 0:\n",
        "    factorial *= i  # Multiply the current number\n",
        "    i -= 1  # Decrease the counter\n",
        "\n",
        "# Print the result\n",
        "print(f\"Factorial of {num} is {factorial}\")"
      ],
      "metadata": {
        "colab": {
          "base_uri": "https://localhost:8080/"
        },
        "id": "aSEq9KJYm3iw",
        "outputId": "9c07483e-c573-4d58-a20d-fe98d6c7d907"
      },
      "execution_count": 19,
      "outputs": [
        {
          "output_type": "stream",
          "name": "stdout",
          "text": [
            "Enter a number: 5\n",
            "Factorial of 5 is 120\n"
          ]
        }
      ]
    },
    {
      "cell_type": "code",
      "source": [],
      "metadata": {
        "id": "0R-p3B99m5Wb"
      },
      "execution_count": 19,
      "outputs": []
    }
  ]
}